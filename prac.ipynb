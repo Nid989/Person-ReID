{
 "metadata": {
  "language_info": {
   "codemirror_mode": {
    "name": "ipython",
    "version": 3
   },
   "file_extension": ".py",
   "mimetype": "text/x-python",
   "name": "python",
   "nbconvert_exporter": "python",
   "pygments_lexer": "ipython3",
   "version": "3.6.13"
  },
  "orig_nbformat": 4,
  "kernelspec": {
   "name": "python3",
   "display_name": "Python 3.6.13 64-bit ('Torch': conda)"
  },
  "interpreter": {
   "hash": "649591896ef0a3657f2bdf9205a4ea891d57508e64d07c33876fda621b08139a"
  }
 },
 "nbformat": 4,
 "nbformat_minor": 2,
 "cells": [
  {
   "source": [
    "import torch\n",
    "import numpy as np"
   ],
   "cell_type": "code",
   "metadata": {},
   "execution_count": 1,
   "outputs": []
  },
  {
   "source": [
    "mat = np.load(\"viper//viper_features.npy\", allow_pickle=True)"
   ],
   "cell_type": "code",
   "metadata": {},
   "execution_count": 2,
   "outputs": []
  },
  {
   "cell_type": "code",
   "execution_count": 3,
   "metadata": {},
   "outputs": [],
   "source": [
    "EPS = 0.001 # the regularization constant\n",
    "sigma = 2**-16 # the kernel width\n",
    "N = 632 # number of persons\n",
    "d = 100 # number of features"
   ]
  },
  {
   "source": [
    "### Loading parameters"
   ],
   "cell_type": "markdown",
   "metadata": {}
  },
  {
   "cell_type": "code",
   "execution_count": 4,
   "metadata": {},
   "outputs": [
    {
     "output_type": "stream",
     "name": "stdout",
     "text": [
      "torch.Size([1, 632]) torch.Size([1, 632]) torch.Size([100, 1264])\n"
     ]
    }
   ],
   "source": [
    "idxa = mat.item().get('idxa')-1\n",
    "idxa = idxa.astype('float64')\n",
    "idxa = torch.from_numpy(idxa)\n",
    "\n",
    "idxb = mat.item().get('idxb')-1\n",
    "idxb = idxb.astype('float64')\n",
    "idxb = torch.from_numpy(idxb)\n",
    "\n",
    "X = mat.item().get('ux')[:d, :] \n",
    "X = torch.from_numpy(X)\n",
    "\n",
    "print(idxa.shape, idxb.shape, X.shape)"
   ]
  },
  {
   "source": [
    "### Data Review"
   ],
   "cell_type": "markdown",
   "metadata": {}
  },
  {
   "cell_type": "code",
   "execution_count": 5,
   "metadata": {},
   "outputs": [
    {
     "output_type": "execute_result",
     "data": {
      "text/plain": [
       "tensor([ 5.6763e+01, -2.1639e+01, -2.6869e+01, -2.6857e+01, -1.2353e+01,\n",
       "         9.6739e+00, -2.4680e+00, -4.1892e+01, -6.1503e+00, -1.8926e+01,\n",
       "        -8.1701e-01,  3.4005e+01,  1.1992e+01, -3.7692e+01,  1.2938e+01,\n",
       "         1.9612e+01, -4.2859e-01,  2.0604e+01, -4.4400e+00,  8.6628e+00,\n",
       "        -1.4934e+01, -1.7920e+01, -2.0539e+00,  5.2963e+00, -1.0537e+01,\n",
       "        -1.1793e+01, -1.3612e+01, -4.4364e+00, -3.4284e+00, -3.7028e+00,\n",
       "        -9.3622e+00,  6.6155e+00,  1.9674e+01, -9.0171e-01, -8.4710e+00,\n",
       "         9.8897e-01, -7.4855e+00,  1.9710e+01, -5.8935e+00,  6.1913e+00,\n",
       "         2.1174e+00, -8.7990e+00,  5.6792e+00, -1.3161e+01,  2.8724e-01,\n",
       "        -5.4849e+00, -4.0117e+00,  6.0003e+00, -8.6844e+00,  2.5930e+00,\n",
       "        -5.0884e+00,  4.9267e+00, -2.0084e+01,  1.0568e+01, -1.3966e+01,\n",
       "         5.3753e+00, -6.1388e+00,  5.9289e+00, -4.0125e+00,  1.8924e+00,\n",
       "        -3.0191e+00,  5.9632e+00, -2.4214e+00,  9.8576e-01, -2.9458e+00,\n",
       "         3.2906e+00, -3.8012e+00,  1.4486e+01, -3.5076e+00,  1.4195e+01,\n",
       "        -4.0205e+00,  6.0029e+00, -3.0058e+00,  2.6157e+00, -5.1397e+00,\n",
       "         3.0881e+00, -9.4216e+00,  4.6460e+00, -1.2996e+01,  6.5265e+00,\n",
       "        -2.1788e+00,  7.5242e+00, -2.7163e-01,  2.0277e-01, -1.0699e+01,\n",
       "         7.3299e-01, -5.6815e+00,  1.1929e+01, -2.7352e+00,  4.2921e+00,\n",
       "        -5.7276e+00,  4.7523e+00, -1.0413e+01,  1.1041e-02, -7.9650e+00,\n",
       "         3.3691e+00, -6.3739e+00,  3.0307e+00, -2.6459e+00,  3.0966e+00],\n",
       "       dtype=torch.float64)"
      ]
     },
     "metadata": {},
     "execution_count": 5
    }
   ],
   "source": [
    "X[:,0]"
   ]
  },
  {
   "cell_type": "code",
   "execution_count": 6,
   "metadata": {},
   "outputs": [],
   "source": [
    "perm = torch.randperm(N)"
   ]
  },
  {
   "cell_type": "code",
   "execution_count": 7,
   "metadata": {},
   "outputs": [],
   "source": [
    "idxtrain = perm[:N//2]\n",
    "idxtest = perm[N//2:]"
   ]
  },
  {
   "cell_type": "code",
   "execution_count": 8,
   "metadata": {},
   "outputs": [
    {
     "output_type": "execute_result",
     "data": {
      "text/plain": [
       "torch.Size([316])"
      ]
     },
     "metadata": {},
     "execution_count": 8
    }
   ],
   "source": [
    "idxtrain.shape"
   ]
  },
  {
   "cell_type": "code",
   "execution_count": 9,
   "metadata": {},
   "outputs": [],
   "source": [
    "first_ind = torch.cat((idxa[0,idxtrain], idxa[0, idxtrain]))\n",
    "first_ind = first_ind.view(1, first_ind.shape[0])\n",
    "second_ind = torch.cat((idxb[0, idxtrain], idxb[0, idxtrain[torch.randperm(N//2)]] ))\n",
    "second_ind = second_ind.view(1, second_ind.shape[0])"
   ]
  },
  {
   "cell_type": "code",
   "execution_count": 10,
   "metadata": {},
   "outputs": [
    {
     "output_type": "stream",
     "name": "stdout",
     "text": [
      "torch.Size([1, 632]) torch.Size([1, 632])\n"
     ]
    }
   ],
   "source": [
    "print(first_ind.shape, second_ind.shape)"
   ]
  },
  {
   "cell_type": "code",
   "execution_count": 11,
   "metadata": {},
   "outputs": [],
   "source": [
    "temp_a = torch.ones(N)\n",
    "temp_b = torch.cat((torch.ones(N//2), torch.zeros(N//2)))\n",
    "matches = torch.logical_and(temp_a, temp_b)"
   ]
  },
  {
   "cell_type": "code",
   "execution_count": 12,
   "metadata": {},
   "outputs": [],
   "source": [
    "S = torch.cat((first_ind[:, matches], second_ind[:, matches]))\n",
    "D = torch.cat((first_ind[:, torch.logical_not(matches)], second_ind[:, torch.logical_not(matches)]))"
   ]
  },
  {
   "source": [
    "### Compute kernelmatrix"
   ],
   "cell_type": "markdown",
   "metadata": {}
  },
  {
   "cell_type": "code",
   "execution_count": 13,
   "metadata": {},
   "outputs": [],
   "source": [
    "from kernelmatrix import kernelmatrix\n",
    "K = kernelmatrix(X=X, X2=torch.tensor([]), sigma=sigma)"
   ]
  },
  {
   "source": [
    "### Compute H"
   ],
   "cell_type": "markdown",
   "metadata": {}
  },
  {
   "cell_type": "code",
   "execution_count": 14,
   "metadata": {},
   "outputs": [],
   "source": [
    "n = K.shape[0]\n",
    "B = torch.zeros(n, 1)\n",
    "E = torch.zeros(n, 1)\n",
    "W = torch.zeros(n, n)"
   ]
  },
  {
   "cell_type": "code",
   "execution_count": 15,
   "metadata": {},
   "outputs": [
    {
     "output_type": "stream",
     "name": "stdout",
     "text": [
      "torch.Size([316]) torch.Size([316])\n"
     ]
    }
   ],
   "source": [
    "ib = D[0, :].type(torch.int64)\n",
    "# .view(1, D.shape[1])\n",
    "ie = D[1, :].type(torch.int64)\n",
    "# .view(1, D.shape[1])\n",
    "print(ib.shape, ie.shape)"
   ]
  },
  {
   "cell_type": "code",
   "execution_count": 16,
   "metadata": {},
   "outputs": [
    {
     "output_type": "stream",
     "name": "stdout",
     "text": [
      "torch.Size([316, 1])\n"
     ]
    }
   ],
   "source": [
    "t = torch.ones(316,1)\n",
    "print(t.shape)\n",
    "# print(t)"
   ]
  },
  {
   "cell_type": "code",
   "execution_count": 17,
   "metadata": {},
   "outputs": [],
   "source": [
    "B[ib.type(torch.int64)] = t"
   ]
  },
  {
   "cell_type": "code",
   "execution_count": 18,
   "metadata": {},
   "outputs": [],
   "source": [
    "E[ie.type(torch.int64)] = t"
   ]
  },
  {
   "cell_type": "code",
   "execution_count": 19,
   "metadata": {},
   "outputs": [],
   "source": [
    "for i in range(0, ib.shape[0]):\n",
    "    W[ib[i], ie[i]] = W[ib[i],ie[i]]+1"
   ]
  },
  {
   "cell_type": "code",
   "execution_count": 20,
   "metadata": {},
   "outputs": [],
   "source": [
    "from computeH import computeH\n",
    "H = computeH(1264, ib=D[0,:], ie=D[1,:])"
   ]
  },
  {
   "cell_type": "code",
   "execution_count": 21,
   "metadata": {},
   "outputs": [
    {
     "output_type": "execute_result",
     "data": {
      "text/plain": [
       "tensor(632)"
      ]
     },
     "metadata": {},
     "execution_count": 21
    }
   ],
   "source": [
    "torch.count_nonzero(torch.diagonal(H))\n",
    "# matlab output nnz(diag(H0)): 632\n",
    "# NO DOUBT we're calculating H's correctly."
   ]
  },
  {
   "source": [
    "### kernel function\n"
   ],
   "cell_type": "markdown",
   "metadata": {}
  },
  {
   "cell_type": "code",
   "execution_count": 22,
   "metadata": {},
   "outputs": [],
   "source": [
    "n = K.shape[0]\n",
    "e = EPS\n",
    "n1 = S.shape[1]\n",
    "n0 = D.shape[1]\n",
    "H0 = computeH(n, D[0, :], D[1, :])\n",
    "H1 = computeH(n, S[0, :], S[1, :])"
   ]
  },
  {
   "cell_type": "code",
   "execution_count": 23,
   "metadata": {},
   "outputs": [],
   "source": [
    "from helps.kernel import computeT\n",
    "C = computeT(n0, 0.001, H0, K)-computeT(n1, 0.001, H1, K)"
   ]
  },
  {
   "cell_type": "code",
   "execution_count": 24,
   "metadata": {
    "tags": []
   },
   "outputs": [
    {
     "output_type": "execute_result",
     "data": {
      "text/plain": [
       "tensor(399424)"
      ]
     },
     "metadata": {},
     "execution_count": 24
    }
   ],
   "source": [
    "torch.count_nonzero(C)"
   ]
  },
  {
   "cell_type": "code",
   "execution_count": 25,
   "metadata": {},
   "outputs": [
    {
     "output_type": "execute_result",
     "data": {
      "text/plain": [
       "tensor([-246.5799,    0.0000, -705.9613,    0.0000,    0.0000,    0.0000,\n",
       "         -83.9442, -449.1142, -269.7489,   21.9998,    0.0000,    0.0000,\n",
       "        -116.6399,    0.0000,  -11.6200,  -84.0050,    0.0000,    0.0000,\n",
       "          -1.7168,    0.0000,    0.0000,  326.0536, -531.5749,    0.0000,\n",
       "           0.0000,    0.0000, -226.2907,  -43.9010,    0.0000,  133.7894,\n",
       "           0.0000,    0.0000,    0.0000,    0.0000, -288.2025,    0.0000,\n",
       "           0.0000,  170.8136, -317.2287,   35.5850, -341.0009,  -49.9253,\n",
       "        -170.3652,    0.0000,   98.0961,    0.0000,   20.9441,  432.5608,\n",
       "           0.0000,    0.0000,    0.0000,    0.0000,  -60.5735,    0.0000,\n",
       "           0.0000,    0.0000, -688.4719,   38.0362, -329.2959,   31.8932,\n",
       "        -242.3010,  505.2974, -422.7775,    0.0000,   -8.8691,    0.0000,\n",
       "           0.0000,   92.2994,    0.0000,    0.0000, -302.1781,    0.0000,\n",
       "        -329.5821,  222.2434,    0.0000,  135.9778,    0.0000,    0.0000,\n",
       "        -130.1544,  220.8037,  -33.0299,    0.0000,  -90.9548,    0.0000,\n",
       "           0.0000,    0.0000, -252.8365,    0.0000,    0.0000,  387.6728,\n",
       "          60.4757,  180.1300,    0.0000,  459.3670, -187.8363, -330.1947,\n",
       "           0.0000,  239.3017,    0.0000,    0.0000], dtype=torch.float64)"
      ]
     },
     "metadata": {},
     "execution_count": 25
    }
   ],
   "source": [
    "torch.diagonal(C)[:100]"
   ]
  },
  {
   "cell_type": "code",
   "execution_count": 26,
   "metadata": {},
   "outputs": [],
   "source": [
    "# from kernelmatrix import kernelmatrix\n",
    "\n",
    "# K  = kernelmatrix(X=X, X2=torch.tensor([]), sigma=sigma);       \n",
    "\n",
    "# part_A = (1/(n*EPS**2))\n",
    "# print(part_A)\n",
    "\n",
    "# t = torch.eye(K.shape[0]) + (1/(n*2))*torch.matmul(K.double(), H.double())\n",
    "# torch.count_nonzero(t)\n",
    "\n",
    "# part_B = torch.inverse(t)\n",
    "# print(torch.count_nonzero(part_B))\n",
    "\n",
    "# C = part_A * torch.matmul(H.double(), part_B)\n",
    "# torch.count_nonzero(C)"
   ]
  },
  {
   "cell_type": "code",
   "execution_count": 27,
   "metadata": {},
   "outputs": [
    {
     "output_type": "stream",
     "name": "stdout",
     "text": [
      "torch.Size([1264, 1264])\n"
     ]
    }
   ],
   "source": [
    "from helps.kernel import kernel\n",
    "M = kernel(EPS, S, D, K, pmetric=1)\n",
    "print(M.shape)\n",
    "# print(torch.diagonal(M)[:100])\n",
    "# print(M[:100,:10])"
   ]
  },
  {
   "source": [
    "### project to positive-semidefinite cone"
   ],
   "cell_type": "markdown",
   "metadata": {}
  },
  {
   "cell_type": "code",
   "execution_count": 28,
   "metadata": {},
   "outputs": [],
   "source": [
    "# a = torch.tensor([[0.6529, 0.1343, 0.1778], [0.4367, 0.5539, 0.9764], [0.5284, 0.6233, 0.3749]])\n",
    "# print(a.shape)\n",
    "# print(a)\n",
    "# x, y = torch.eig(a)\n",
    "# print(x)\n",
    "# print(y)"
   ]
  },
  {
   "cell_type": "code",
   "execution_count": 59,
   "metadata": {},
   "outputs": [],
   "source": [
    "D, V = torch.eig(M, eigenvectors=True)\n",
    "d = D[:,0]\n",
    "for idx, i in enumerate(d):\n",
    "    if i<=0:\n",
    "        d[idx] = torch.finfo(torch.float64).eps"
   ]
  },
  {
   "cell_type": "code",
   "execution_count": 71,
   "metadata": {},
   "outputs": [],
   "source": [
    "D_ = torch.diag(d).type(torch.double)\n",
    "V = V.type(torch.double)\n",
    "M = torch.mm(V, torch.mm(D_, V.T))\n",
    "# torch.diagonal(M)[1:100]"
   ]
  }
 ]
}