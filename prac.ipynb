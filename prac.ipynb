{
 "metadata": {
  "language_info": {
   "codemirror_mode": {
    "name": "ipython",
    "version": 3
   },
   "file_extension": ".py",
   "mimetype": "text/x-python",
   "name": "python",
   "nbconvert_exporter": "python",
   "pygments_lexer": "ipython3",
   "version": "3.6.13"
  },
  "orig_nbformat": 4,
  "kernelspec": {
   "name": "python3",
   "display_name": "Python 3.6.13 64-bit ('Torch': conda)"
  },
  "interpreter": {
   "hash": "649591896ef0a3657f2bdf9205a4ea891d57508e64d07c33876fda621b08139a"
  }
 },
 "nbformat": 4,
 "nbformat_minor": 2,
 "cells": [
  {
   "source": [
    "import torch\n",
    "import numpy as np"
   ],
   "cell_type": "code",
   "metadata": {},
   "execution_count": 2,
   "outputs": []
  },
  {
   "source": [
    "mat = np.load(\"viper//viper_features.npy\", allow_pickle=True)"
   ],
   "cell_type": "code",
   "metadata": {},
   "execution_count": 3,
   "outputs": []
  },
  {
   "cell_type": "code",
   "execution_count": 4,
   "metadata": {},
   "outputs": [],
   "source": [
    "EPS = 0.001 # the regularization constant\n",
    "sigma = 2**-16 # the kernel width\n",
    "N = 632 # number of persons\n",
    "d = 100 # number of features"
   ]
  },
  {
   "source": [
    "### Loading parameters"
   ],
   "cell_type": "markdown",
   "metadata": {}
  },
  {
   "cell_type": "code",
   "execution_count": 5,
   "metadata": {},
   "outputs": [
    {
     "output_type": "stream",
     "name": "stdout",
     "text": [
      "torch.Size([1, 632]) torch.Size([1, 632]) torch.Size([100, 1264])\n"
     ]
    }
   ],
   "source": [
    "idxa = mat.item().get('idxa')-1\n",
    "idxa = idxa.astype('float64')\n",
    "idxa = torch.from_numpy(idxa)\n",
    "\n",
    "idxb = mat.item().get('idxb')-1\n",
    "idxb = idxb.astype('float64')\n",
    "idxb = torch.from_numpy(idxb)\n",
    "\n",
    "X = mat.item().get('ux')[:d, :] \n",
    "X = torch.from_numpy(X)\n",
    "\n",
    "print(idxa.shape, idxb.shape, X.shape)"
   ]
  },
  {
   "source": [
    "### Data Review"
   ],
   "cell_type": "markdown",
   "metadata": {}
  },
  {
   "cell_type": "code",
   "execution_count": 6,
   "metadata": {},
   "outputs": [
    {
     "output_type": "execute_result",
     "data": {
      "text/plain": [
       "tensor([ 5.6763e+01, -2.1639e+01, -2.6869e+01, -2.6857e+01, -1.2353e+01,\n",
       "         9.6739e+00, -2.4680e+00, -4.1892e+01, -6.1503e+00, -1.8926e+01,\n",
       "        -8.1701e-01,  3.4005e+01,  1.1992e+01, -3.7692e+01,  1.2938e+01,\n",
       "         1.9612e+01, -4.2859e-01,  2.0604e+01, -4.4400e+00,  8.6628e+00,\n",
       "        -1.4934e+01, -1.7920e+01, -2.0539e+00,  5.2963e+00, -1.0537e+01,\n",
       "        -1.1793e+01, -1.3612e+01, -4.4364e+00, -3.4284e+00, -3.7028e+00,\n",
       "        -9.3622e+00,  6.6155e+00,  1.9674e+01, -9.0171e-01, -8.4710e+00,\n",
       "         9.8897e-01, -7.4855e+00,  1.9710e+01, -5.8935e+00,  6.1913e+00,\n",
       "         2.1174e+00, -8.7990e+00,  5.6792e+00, -1.3161e+01,  2.8724e-01,\n",
       "        -5.4849e+00, -4.0117e+00,  6.0003e+00, -8.6844e+00,  2.5930e+00,\n",
       "        -5.0884e+00,  4.9267e+00, -2.0084e+01,  1.0568e+01, -1.3966e+01,\n",
       "         5.3753e+00, -6.1388e+00,  5.9289e+00, -4.0125e+00,  1.8924e+00,\n",
       "        -3.0191e+00,  5.9632e+00, -2.4214e+00,  9.8576e-01, -2.9458e+00,\n",
       "         3.2906e+00, -3.8012e+00,  1.4486e+01, -3.5076e+00,  1.4195e+01,\n",
       "        -4.0205e+00,  6.0029e+00, -3.0058e+00,  2.6157e+00, -5.1397e+00,\n",
       "         3.0881e+00, -9.4216e+00,  4.6460e+00, -1.2996e+01,  6.5265e+00,\n",
       "        -2.1788e+00,  7.5242e+00, -2.7163e-01,  2.0277e-01, -1.0699e+01,\n",
       "         7.3299e-01, -5.6815e+00,  1.1929e+01, -2.7352e+00,  4.2921e+00,\n",
       "        -5.7276e+00,  4.7523e+00, -1.0413e+01,  1.1041e-02, -7.9650e+00,\n",
       "         3.3691e+00, -6.3739e+00,  3.0307e+00, -2.6459e+00,  3.0966e+00],\n",
       "       dtype=torch.float64)"
      ]
     },
     "metadata": {},
     "execution_count": 6
    }
   ],
   "source": [
    "X[:,0]"
   ]
  },
  {
   "cell_type": "code",
   "execution_count": 7,
   "metadata": {},
   "outputs": [],
   "source": [
    "perm = torch.randperm(N)"
   ]
  },
  {
   "cell_type": "code",
   "execution_count": 8,
   "metadata": {},
   "outputs": [],
   "source": [
    "idxtrain = perm[:N//2]\n",
    "idxtest = perm[N//2:]"
   ]
  },
  {
   "cell_type": "code",
   "execution_count": 9,
   "metadata": {},
   "outputs": [
    {
     "output_type": "execute_result",
     "data": {
      "text/plain": [
       "torch.Size([316])"
      ]
     },
     "metadata": {},
     "execution_count": 9
    }
   ],
   "source": [
    "idxtrain.shape"
   ]
  },
  {
   "cell_type": "code",
   "execution_count": 10,
   "metadata": {},
   "outputs": [],
   "source": [
    "first_ind = torch.cat((idxa[0,idxtrain], idxa[0, idxtrain]))\n",
    "first_ind = first_ind.view(1, first_ind.shape[0])\n",
    "second_ind = torch.cat((idxb[0, idxtrain], idxb[0, idxtrain[torch.randperm(N//2)]] ))\n",
    "second_ind = second_ind.view(1, second_ind.shape[0])"
   ]
  },
  {
   "cell_type": "code",
   "execution_count": 11,
   "metadata": {},
   "outputs": [
    {
     "output_type": "stream",
     "name": "stdout",
     "text": [
      "torch.Size([1, 632]) torch.Size([1, 632])\n"
     ]
    }
   ],
   "source": [
    "print(first_ind.shape, second_ind.shape)"
   ]
  },
  {
   "cell_type": "code",
   "execution_count": 12,
   "metadata": {},
   "outputs": [],
   "source": [
    "temp_a = torch.ones(N)\n",
    "temp_b = torch.cat((torch.ones(N//2), torch.zeros(N//2)))\n",
    "matches = torch.logical_and(temp_a, temp_b)"
   ]
  },
  {
   "cell_type": "code",
   "execution_count": 13,
   "metadata": {},
   "outputs": [],
   "source": [
    "S = torch.cat((first_ind[:, matches], second_ind[:, matches]))\n",
    "D = torch.cat((first_ind[:, torch.logical_not(matches)], second_ind[:, torch.logical_not(matches)]))"
   ]
  },
  {
   "source": [
    "### Compute kernelmatrix"
   ],
   "cell_type": "markdown",
   "metadata": {}
  },
  {
   "cell_type": "code",
   "execution_count": 14,
   "metadata": {},
   "outputs": [],
   "source": [
    "from kernelmatrix import kernelmatrix\n",
    "K = kernelmatrix(X=X, X2=torch.tensor([]), sigma=sigma)"
   ]
  },
  {
   "source": [
    "### Compute H"
   ],
   "cell_type": "markdown",
   "metadata": {}
  },
  {
   "cell_type": "code",
   "execution_count": 15,
   "metadata": {},
   "outputs": [],
   "source": [
    "n = K.shape[0]\n",
    "B = torch.zeros(n, 1)\n",
    "E = torch.zeros(n, 1)\n",
    "W = torch.zeros(n, n)"
   ]
  },
  {
   "cell_type": "code",
   "execution_count": 16,
   "metadata": {},
   "outputs": [
    {
     "output_type": "stream",
     "name": "stdout",
     "text": [
      "torch.Size([316]) torch.Size([316])\n"
     ]
    }
   ],
   "source": [
    "ib = D[0, :].type(torch.int64)\n",
    "# .view(1, D.shape[1])\n",
    "ie = D[1, :].type(torch.int64)\n",
    "# .view(1, D.shape[1])\n",
    "print(ib.shape, ie.shape)"
   ]
  },
  {
   "cell_type": "code",
   "execution_count": 17,
   "metadata": {},
   "outputs": [
    {
     "output_type": "stream",
     "name": "stdout",
     "text": [
      "torch.Size([316, 1])\n"
     ]
    }
   ],
   "source": [
    "t = torch.ones(316,1)\n",
    "print(t.shape)\n",
    "# print(t)"
   ]
  },
  {
   "cell_type": "code",
   "execution_count": 18,
   "metadata": {},
   "outputs": [],
   "source": [
    "B[ib.type(torch.int64)] = t"
   ]
  },
  {
   "cell_type": "code",
   "execution_count": 19,
   "metadata": {},
   "outputs": [],
   "source": [
    "E[ie.type(torch.int64)] = t"
   ]
  },
  {
   "cell_type": "code",
   "execution_count": 20,
   "metadata": {},
   "outputs": [],
   "source": [
    "for i in range(0, ib.shape[0]):\n",
    "    W[ib[i], ie[i]] = W[ib[i],ie[i]]+1"
   ]
  },
  {
   "cell_type": "code",
   "execution_count": 21,
   "metadata": {},
   "outputs": [],
   "source": [
    "from computeH import computeH\n",
    "H = computeH(1264, ib=D[0,:], ie=D[1,:])"
   ]
  },
  {
   "cell_type": "code",
   "execution_count": 22,
   "metadata": {},
   "outputs": [
    {
     "output_type": "execute_result",
     "data": {
      "text/plain": [
       "tensor(632)"
      ]
     },
     "metadata": {},
     "execution_count": 22
    }
   ],
   "source": [
    "torch.count_nonzero(torch.diagonal(H))\n",
    "# matlab output nnz(diag(H0)): 632\n",
    "# NO DOUBT we're calculating H's correctly."
   ]
  },
  {
   "source": [
    "### kernel function\n"
   ],
   "cell_type": "markdown",
   "metadata": {}
  },
  {
   "cell_type": "code",
   "execution_count": 23,
   "metadata": {},
   "outputs": [],
   "source": [
    "n = K.shape[0]\n",
    "e = EPS\n",
    "n1 = S.shape[1]\n",
    "n0 = D.shape[1]\n",
    "H0 = computeH(n, D[0, :], D[1, :])\n",
    "H1 = computeH(n, S[0, :], S[1, :])"
   ]
  },
  {
   "cell_type": "code",
   "execution_count": 24,
   "metadata": {},
   "outputs": [],
   "source": [
    "from helps.kernel import computeT\n",
    "C = computeT(n0, 0.001, H0, K)-computeT(n1, 0.001, H1, K)"
   ]
  },
  {
   "cell_type": "code",
   "execution_count": 25,
   "metadata": {
    "tags": []
   },
   "outputs": [
    {
     "output_type": "execute_result",
     "data": {
      "text/plain": [
       "tensor(399424)"
      ]
     },
     "metadata": {},
     "execution_count": 25
    }
   ],
   "source": [
    "torch.count_nonzero(C)"
   ]
  },
  {
   "cell_type": "code",
   "execution_count": 26,
   "metadata": {},
   "outputs": [
    {
     "output_type": "execute_result",
     "data": {
      "text/plain": [
       "tensor([   0.0000,  -16.5693, -390.1460,    0.0000, -223.1174,    0.0000,\n",
       "         -84.4830,    0.0000,    0.0000,    0.0000,   18.8604,    0.0000,\n",
       "        -228.7330,  222.7599,    0.0000,    0.0000, -133.6817,    0.0000,\n",
       "           0.0000,    0.0000,    0.0000,    0.0000,    0.0000,    0.0000,\n",
       "        -238.3554, -118.5372, -161.4838,    0.0000,    0.0000,    0.0000,\n",
       "           0.0000,    0.0000,    0.0000,  312.6203, -184.7387,  -17.4127,\n",
       "        -182.7256,    0.0000,    0.0000,  447.9342,  -55.4967, -244.7327,\n",
       "        -400.4982,    0.0000, -177.8339,    0.0000,    0.0000,    0.0000,\n",
       "        -107.3422,    0.0000,    0.0000,    0.0000, -153.5592,    0.0000,\n",
       "           0.0000, -122.8219, -201.0423, -193.3706,    0.0000,    0.0000,\n",
       "          -4.1882, -214.9554, -280.9341, -312.6125, -305.2442,  273.6842,\n",
       "         -96.2715,    0.0000,    0.0000,    0.0000,    0.0000,    0.0000,\n",
       "        -179.1505,    0.0000,    0.0000,  213.1648,  -47.8891,    0.0000,\n",
       "         -10.7244,    0.0000,  -45.4505,  155.3536, -113.6411,    0.0000,\n",
       "         130.7959,    0.0000,  -27.5312,    0.0000,    0.0000,    0.0000,\n",
       "           7.2487,    0.0000,   -9.0648,  161.2493,    0.0000,  342.1079,\n",
       "        -318.6244,    0.0000,    0.0000, -309.0284], dtype=torch.float64)"
      ]
     },
     "metadata": {},
     "execution_count": 26
    }
   ],
   "source": [
    "torch.diagonal(C)[:100]"
   ]
  },
  {
   "cell_type": "code",
   "execution_count": 27,
   "metadata": {},
   "outputs": [],
   "source": [
    "# from kernelmatrix import kernelmatrix\n",
    "\n",
    "# K  = kernelmatrix(X=X, X2=torch.tensor([]), sigma=sigma);       \n",
    "\n",
    "# part_A = (1/(n*EPS**2))\n",
    "# print(part_A)\n",
    "\n",
    "# t = torch.eye(K.shape[0]) + (1/(n*2))*torch.matmul(K.double(), H.double())\n",
    "# torch.count_nonzero(t)\n",
    "\n",
    "# part_B = torch.inverse(t)\n",
    "# print(torch.count_nonzero(part_B))\n",
    "\n",
    "# C = part_A * torch.matmul(H.double(), part_B)\n",
    "# torch.count_nonzero(C)"
   ]
  },
  {
   "cell_type": "code",
   "execution_count": 28,
   "metadata": {},
   "outputs": [
    {
     "output_type": "stream",
     "name": "stdout",
     "text": [
      "torch.Size([1264, 1264])\n"
     ]
    }
   ],
   "source": [
    "from helps.kernel import kernel\n",
    "M = kernel(EPS, S, D, K, pmetric=1)\n",
    "print(M.shape)\n",
    "# print(torch.diagonal(M)[:100])\n",
    "# print(M[:100,:10])"
   ]
  },
  {
   "source": [
    "### project to positive-semidefinite cone"
   ],
   "cell_type": "markdown",
   "metadata": {}
  },
  {
   "cell_type": "code",
   "execution_count": 29,
   "metadata": {},
   "outputs": [],
   "source": [
    "# a = torch.tensor([[0.6529, 0.1343, 0.1778], [0.4367, 0.5539, 0.9764], [0.5284, 0.6233, 0.3749]])\n",
    "# print(a.shape)\n",
    "# print(a)\n",
    "# x, y = torch.eig(a)\n",
    "# print(x)\n",
    "# print(y)"
   ]
  },
  {
   "cell_type": "code",
   "execution_count": 30,
   "metadata": {},
   "outputs": [],
   "source": [
    "D, V = torch.eig(M, eigenvectors=True)\n",
    "d = D[:,0]\n",
    "for idx, i in enumerate(d):\n",
    "    if i<=0:\n",
    "        d[idx] = torch.finfo(torch.float64).eps"
   ]
  },
  {
   "cell_type": "code",
   "execution_count": 31,
   "metadata": {},
   "outputs": [],
   "source": [
    "D_ = torch.diag(d).type(torch.double)\n",
    "V = V.type(torch.double)\n",
    "M = torch.mm(V, torch.mm(D_, V.T))\n",
    "# torch.diagonal(M)[1:100]"
   ]
  },
  {
   "source": [
    "### Pairwise Distance"
   ],
   "cell_type": "markdown",
   "metadata": {}
  },
  {
   "cell_type": "code",
   "execution_count": 32,
   "metadata": {},
   "outputs": [],
   "source": [
    "import torch"
   ]
  },
  {
   "cell_type": "code",
   "execution_count": 33,
   "metadata": {},
   "outputs": [
    {
     "output_type": "stream",
     "name": "stdout",
     "text": [
      "torch.Size([632, 1]) torch.Size([632, 1])\n"
     ]
    }
   ],
   "source": [
    "data = X\n",
    "idxa = idxa.type(torch.int64).T\n",
    "idxb = idxb.type(torch.int64).T\n",
    "print(idxa.shape, idxb.shape)"
   ]
  },
  {
   "cell_type": "code",
   "execution_count": 34,
   "metadata": {},
   "outputs": [
    {
     "output_type": "stream",
     "name": "stdout",
     "text": [
      "torch.Size([100, 316]) torch.Size([100, 316])\n"
     ]
    }
   ],
   "source": [
    "# Retrieve p and q from the data \"X\"\n",
    "p = data[:, idxa[idxtest]]\n",
    "p = p.view(p.shape[0], -1)\n",
    "q = data[:, idxb[idxtest]]\n",
    "q = q.view(q.shape[0], -1)\n",
    "print(p.shape, q.shape)"
   ]
  },
  {
   "cell_type": "code",
   "execution_count": 35,
   "metadata": {},
   "outputs": [],
   "source": [
    "(d, pn) = p.shape\n",
    "(d, qn) = q.shape"
   ]
  },
  {
   "source": [
    "### E.g."
   ],
   "cell_type": "markdown",
   "metadata": {}
  },
  {
   "cell_type": "code",
   "execution_count": 36,
   "metadata": {},
   "outputs": [
    {
     "output_type": "stream",
     "name": "stdout",
     "text": [
      "tensor([[ 0.8016,  1.2166,  0.3805, -0.4936],\n        [-0.3568, -0.7677, -0.5663, -1.1806],\n        [ 0.6396,  0.0568, -0.5527, -1.8268],\n        [-0.6032, -1.0041,  0.5980,  0.6830]])\n"
     ]
    }
   ],
   "source": [
    "a = torch.randn(4, 4)\n",
    "print(a)"
   ]
  },
  {
   "cell_type": "code",
   "execution_count": 37,
   "metadata": {},
   "outputs": [
    {
     "output_type": "execute_result",
     "data": {
      "text/plain": [
       "tensor([2., 6., 2., 9.])"
      ]
     },
     "metadata": {},
     "execution_count": 37
    }
   ],
   "source": [
    "torch.sum(torch.square(torch.floor(a)), 0)"
   ]
  },
  {
   "source": [
    "### Calculate $ \\|x_{i}\\|^2 $ & $ \\|x_{j}\\|^2 $\n"
   ],
   "cell_type": "markdown",
   "metadata": {}
  },
  {
   "cell_type": "code",
   "execution_count": 38,
   "metadata": {},
   "outputs": [
    {
     "output_type": "stream",
     "name": "stdout",
     "text": [
      "torch.Size([1, 316]) torch.Size([1, 316])\n"
     ]
    }
   ],
   "source": [
    "pmag = torch.sum(torch.square(p), 0, keepdim=True).double()\n",
    "qmag = torch.sum(torch.square(q), 0, keepdim=True).double()\n",
    "print(pmag.shape, qmag.shape)"
   ]
  },
  {
   "source": [
    "### Calculate $ \\|x_{i}-x_{j}\\|^2 $ \n",
    "\n",
    "### Simplification: $ \\|x_{i}-x_{j}\\|^2 \\rightarrow \\|x_{i}-x{j}\\|^T\\|x_{i}-x_{j}\\| \\rightarrow \\|x_{i}\\|^2 + \\|x_{j}\\|^2 - 2x_{i}^Tx_{j}  $ \n"
   ],
   "cell_type": "markdown",
   "metadata": {}
  },
  {
   "cell_type": "code",
   "execution_count": 39,
   "metadata": {},
   "outputs": [],
   "source": [
    "m = torch.mm(torch.ones(pn, 1).double(), qmag) + torch.mm(pmag.T, torch.ones(1, qn).double()) - 2 * torch.mm(p.T, q)"
   ]
  },
  {
   "cell_type": "code",
   "execution_count": 40,
   "metadata": {},
   "outputs": [
    {
     "output_type": "stream",
     "name": "stdout",
     "text": [
      "tensor(39311.7711, dtype=torch.float64) tensor(39311.7711, dtype=torch.float64)\n"
     ]
    }
   ],
   "source": [
    "from helps.sqdist import sqdist\n",
    "m_ = sqdist(p, q)\n",
    "print(m[0, 0], m_[0, 0])"
   ]
  },
  {
   "source": [
    "### Mahalanobis Distance Metric"
   ],
   "cell_type": "markdown",
   "metadata": {}
  },
  {
   "cell_type": "code",
   "execution_count": 41,
   "metadata": {},
   "outputs": [
    {
     "output_type": "stream",
     "name": "stdout",
     "text": [
      "torch.Size([1264, 316]) torch.Size([1264, 316]) torch.Size([1264, 1264])\n"
     ]
    }
   ],
   "source": [
    "A = M\n",
    "data = K\n",
    "p = data[:, idxa[idxtest]]\n",
    "p = p.view(p.shape[0], -1)\n",
    "q = data[:, idxb[idxtest]]\n",
    "q = q.view(q.shape[0], -1)\n",
    "print(p.shape, q.shape, A.shape)"
   ]
  },
  {
   "cell_type": "code",
   "execution_count": 42,
   "metadata": {},
   "outputs": [],
   "source": [
    "Ap = torch.mm(A, p)\n",
    "Aq = torch.mm(A, q)\n",
    "pmag = torch.sum(p*Ap, 0, keepdim=True)\n",
    "qmag = torch.sum(q*Aq, 0, keepdim=True)"
   ]
  },
  {
   "cell_type": "code",
   "execution_count": 43,
   "metadata": {},
   "outputs": [
    {
     "output_type": "stream",
     "name": "stdout",
     "text": [
      "tensor([[220.6418, 256.4801, 298.7390, 276.0280, 256.8567, 235.7673, 295.9084,\n         296.4245, 256.3360, 295.2847, 240.9109, 211.1132, 207.1084, 205.6746,\n         285.1915, 218.0659, 255.8814, 331.0374, 191.9767, 233.1496, 291.8562,\n         298.6010, 221.7205, 234.2675, 213.8361, 250.4603, 237.5133, 234.4653,\n         239.6698, 323.1029, 292.2321, 287.3912, 252.8718, 248.8953, 267.1580,\n         166.9565, 285.7725, 197.5639, 293.9923, 280.0688, 244.6829, 212.8363,\n         323.4734, 299.4401, 303.9126, 246.0818, 230.3990, 202.3866, 193.5801,\n         282.8243, 206.6331, 335.9902, 263.3602, 249.5412, 353.9243, 262.1608,\n         267.5490, 249.6633, 247.7452, 206.2337, 279.8859, 277.6253, 260.0620,\n         209.5269, 235.3947, 238.9673, 316.2528, 203.5449, 204.6538, 227.5491,\n         287.5737, 271.6425, 228.9560, 285.9964, 343.8030, 324.4986, 313.0709,\n         257.1539, 344.5227, 184.9295, 249.9111, 276.9733, 276.7288, 277.1230,\n         297.5389, 238.1275, 311.6183, 196.5360, 297.8034, 285.8024, 230.8092,\n         340.1116, 339.8582, 232.8846, 308.6229, 235.9892, 229.0122, 283.1146,\n         308.7805]], dtype=torch.float64)\n"
     ]
    }
   ],
   "source": [
    "print(pmag[:,1:100])"
   ]
  },
  {
   "cell_type": "code",
   "execution_count": 44,
   "metadata": {},
   "outputs": [],
   "source": [
    "m = torch.mm(torch.ones(pn, 1).double(), qmag) + torch.mm(pmag.T, torch.ones(1, qn).double()) - 2 * torch.mm(p.T, q)"
   ]
  },
  {
   "cell_type": "code",
   "execution_count": 45,
   "metadata": {},
   "outputs": [
    {
     "output_type": "stream",
     "name": "stdout",
     "text": [
      "torch.Size([316, 316])\ntensor([-226.7618,  140.6194,   45.5721,    0.7358,  214.5834,  268.8083,\n         157.8075, -147.4658,  281.5724,  111.0422, -165.0020,   56.8357,\n         132.6237,   74.8466, -166.6706,  261.7201,  -55.4505,   12.9445,\n        -128.8495,  224.7504, -177.1359,  110.9231,  109.3424,   55.4743,\n         -62.8355,  -69.3029,  199.0281,  215.0192, -199.5359,    9.4712,\n         102.6151, -218.4428,  260.9415,  170.4952,  145.8677,  127.0024,\n         122.4612, -127.1304,  104.2311,  192.7935,   32.0578,  189.9127,\n          -7.9455,   84.6412,   37.1567, -166.4969,  243.4067, -109.1262,\n         166.8554,  244.9288,   53.6378,   42.9516,  -84.1291,   75.3682,\n         112.9847, -147.6092,  154.9232, -117.0829,  196.9501,  177.9805,\n         -54.0046,  -22.4030,  100.6101,  232.8323, -114.4569,   34.6232,\n          97.2929,  -45.0178, -182.0398,  158.6138,  146.0001, -164.1137,\n        -164.6437,   60.6331,  145.6544,   34.6893,  217.5118, -215.1500,\n         269.0537,  165.6686, -253.5275,  -41.3211,   89.0744, -200.4686,\n         111.9492, -200.0693, -133.5395, -193.7534,  -34.7176,   27.4839,\n         140.6309,   17.2653,  -96.2899, -294.0254,   11.3819,  187.6747,\n         167.1966,  175.2648,  -52.7027], dtype=torch.float64)\n"
     ]
    }
   ],
   "source": [
    "print(m.shape)\n",
    "print(torch.diagonal(m)[1:100])"
   ]
  },
  {
   "cell_type": "code",
   "execution_count": 46,
   "metadata": {},
   "outputs": [
    {
     "output_type": "stream",
     "name": "stdout",
     "text": [
      "torch.Size([316, 316])\n"
     ]
    }
   ],
   "source": [
    "from helps.sqdist import mahalanobis_dist\n",
    "m_ = mahalanobis_dist(p, q, A)\n",
    "print(m_.shape)"
   ]
  },
  {
   "cell_type": "code",
   "execution_count": 47,
   "metadata": {},
   "outputs": [
    {
     "output_type": "execute_result",
     "data": {
      "text/plain": [
       "tensor([ -6.0036, -37.8354,  54.9305, 135.2983,  72.6150, 229.7414, 248.5374,\n",
       "         47.5404, -44.7362, 257.9386, 121.0423, -92.3173,  76.6056, 140.9949,\n",
       "        -43.6102, -34.3224,  55.2140,  44.4430,  77.6330, -55.3194, 199.3310,\n",
       "        -67.1114, 150.6204, -79.6539, 149.4422, -45.0100, -82.7248, 123.0108,\n",
       "         59.4252, -39.8556,  23.0221, 109.3217, -65.1611, 151.4707, 157.5959,\n",
       "         76.1185, 194.4682,  44.8793, -33.3637, 103.7782, 166.4990,  78.6275,\n",
       "         80.0475,  58.9328, 143.4761,  25.4634, -87.0066, 106.1612, -87.3284,\n",
       "        177.6944, 151.7909, -37.8034,  38.4808, -28.1840,  76.0443, 107.8021,\n",
       "        -16.4743, 143.9042,  -9.1452, 175.1320,   0.9532,  35.2973, -15.3230,\n",
       "        115.2094,  69.9127, -26.6850,  69.1144,  99.3742,  48.3538, -73.8189,\n",
       "        -21.4805, 113.0475, -54.8157, -64.8433, 138.9112, 122.3325, 107.2457,\n",
       "         97.0321, -83.9143, 203.1338, 202.6733, -62.1387, -18.6175,  84.2586,\n",
       "        -10.5825, 120.1963, -79.9603,   4.8887, -23.5329, -15.6695, 122.0175,\n",
       "         49.4331,  48.3576,  10.0983, -81.3422,  70.1770,  -5.8659, 172.9901,\n",
       "        145.3752,  56.7058], dtype=torch.float64)"
      ]
     },
     "metadata": {},
     "execution_count": 47
    }
   ],
   "source": [
    "m_[0:100, 0]"
   ]
  },
  {
   "cell_type": "code",
   "execution_count": 48,
   "metadata": {},
   "outputs": [],
   "source": [
    "from helps.calcMCMC import calcMCMC\n",
    "dist = calcMCMC(M, K, idxa, idxb, idxtest)"
   ]
  },
  {
   "cell_type": "code",
   "execution_count": 49,
   "metadata": {},
   "outputs": [
    {
     "output_type": "stream",
     "name": "stdout",
     "text": [
      "torch.Size([1, 316])\n"
     ]
    }
   ],
   "source": [
    "dist[0,0], m_[0,0]\n",
    "print(dist.shape)"
   ]
  },
  {
   "cell_type": "code",
   "execution_count": 50,
   "metadata": {},
   "outputs": [
    {
     "output_type": "execute_result",
     "data": {
      "text/plain": [
       "torch.Size([316])"
      ]
     },
     "metadata": {},
     "execution_count": 50
    }
   ],
   "source": [
    "idxtest.shape"
   ]
  },
  {
   "source": [
    "### Calculate Rank 1 and k-Kissme"
   ],
   "cell_type": "markdown",
   "metadata": {}
  },
  {
   "cell_type": "code",
   "execution_count": 51,
   "metadata": {
    "tags": []
   },
   "outputs": [
    {
     "output_type": "error",
     "ename": "IndexError",
     "evalue": "index 1 is out of bounds for dimension 0 with size 1",
     "traceback": [
      "\u001b[1;31m---------------------------------------------------------------------------\u001b[0m",
      "\u001b[1;31mIndexError\u001b[0m                                Traceback (most recent call last)",
      "\u001b[1;32m<ipython-input-51-7b02f7833c8c>\u001b[0m in \u001b[0;36m<module>\u001b[1;34m\u001b[0m\n\u001b[0;32m      1\u001b[0m \u001b[0mresult\u001b[0m \u001b[1;33m=\u001b[0m \u001b[0mtorch\u001b[0m\u001b[1;33m.\u001b[0m\u001b[0mzeros\u001b[0m\u001b[1;33m(\u001b[0m\u001b[1;36m1\u001b[0m\u001b[1;33m,\u001b[0m \u001b[0mdist\u001b[0m\u001b[1;33m.\u001b[0m\u001b[0mshape\u001b[0m\u001b[1;33m[\u001b[0m\u001b[1;36m1\u001b[0m\u001b[1;33m]\u001b[0m\u001b[1;33m)\u001b[0m\u001b[1;33m\u001b[0m\u001b[1;33m\u001b[0m\u001b[0m\n\u001b[0;32m      2\u001b[0m \u001b[1;32mfor\u001b[0m \u001b[0mpairCounter\u001b[0m \u001b[1;32min\u001b[0m \u001b[0mrange\u001b[0m\u001b[1;33m(\u001b[0m\u001b[1;36m0\u001b[0m\u001b[1;33m,\u001b[0m \u001b[0mdist\u001b[0m\u001b[1;33m.\u001b[0m\u001b[0mshape\u001b[0m\u001b[1;33m[\u001b[0m\u001b[1;36m1\u001b[0m\u001b[1;33m]\u001b[0m\u001b[1;33m)\u001b[0m\u001b[1;33m:\u001b[0m\u001b[1;33m\u001b[0m\u001b[1;33m\u001b[0m\u001b[0m\n\u001b[1;32m----> 3\u001b[1;33m     \u001b[0mdistPair\u001b[0m \u001b[1;33m=\u001b[0m \u001b[0mdist\u001b[0m\u001b[1;33m[\u001b[0m\u001b[0mpairCounter\u001b[0m\u001b[1;33m,\u001b[0m \u001b[1;33m:\u001b[0m\u001b[1;33m]\u001b[0m\u001b[1;33m\u001b[0m\u001b[1;33m\u001b[0m\u001b[0m\n\u001b[0m\u001b[0;32m      4\u001b[0m     \u001b[0mtmp\u001b[0m\u001b[1;33m,\u001b[0m \u001b[0midx\u001b[0m \u001b[1;33m=\u001b[0m \u001b[0mtorch\u001b[0m\u001b[1;33m.\u001b[0m\u001b[0msort\u001b[0m\u001b[1;33m(\u001b[0m\u001b[0mdistPair\u001b[0m\u001b[1;33m)\u001b[0m\u001b[1;33m\u001b[0m\u001b[1;33m\u001b[0m\u001b[0m\n\u001b[0;32m      5\u001b[0m     \u001b[0mresult\u001b[0m\u001b[1;33m[\u001b[0m\u001b[1;33m:\u001b[0m\u001b[1;33m,\u001b[0m \u001b[0midx\u001b[0m\u001b[1;33m==\u001b[0m\u001b[0mpairCounter\u001b[0m\u001b[1;33m]\u001b[0m \u001b[1;33m=\u001b[0m \u001b[0mresult\u001b[0m\u001b[1;33m[\u001b[0m\u001b[1;33m:\u001b[0m\u001b[1;33m,\u001b[0m \u001b[0midx\u001b[0m\u001b[1;33m==\u001b[0m\u001b[0mpairCounter\u001b[0m\u001b[1;33m]\u001b[0m \u001b[1;33m+\u001b[0m \u001b[1;36m1\u001b[0m\u001b[1;33m\u001b[0m\u001b[1;33m\u001b[0m\u001b[0m\n",
      "\u001b[1;31mIndexError\u001b[0m: index 1 is out of bounds for dimension 0 with size 1"
     ]
    }
   ],
   "source": [
    "result = torch.zeros(1, dist.shape[1])\n",
    "for pairCounter in range(0, dist.shape[1]):\n",
    "    distPair = dist[pairCounter, :]\n",
    "    tmp, idx = torch.sort(distPair)\n",
    "    result[:, idx==pairCounter] = result[:, idx==pairCounter] + 1\n",
    "        \n",
    "print(result)"
   ]
  },
  {
   "cell_type": "code",
   "execution_count": null,
   "metadata": {},
   "outputs": [],
   "source": [
    "\n"
   ]
  }
 ]
}